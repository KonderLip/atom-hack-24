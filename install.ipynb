{
 "cells": [
  {
   "cell_type": "code",
   "execution_count": null,
   "id": "86860014-3093-4343-a16c-61035a31a736",
   "metadata": {
    "execution": {
     "iopub.execute_input": "2024-11-10T05:18:26.072892Z",
     "iopub.status.busy": "2024-11-10T05:18:26.071220Z",
     "iopub.status.idle": "2024-11-10T05:24:39.932785Z",
     "shell.execute_reply": "2024-11-10T05:24:39.931517Z",
     "shell.execute_reply.started": "2024-11-10T05:18:26.072820Z"
    }
   },
   "outputs": [],
   "source": [
    "%pip install unsloth[cu118-ampere-torch220]"
   ]
  },
  {
   "cell_type": "code",
   "execution_count": null,
   "id": "e8195510-6a0b-43ed-a9c7-ba471ac1e394",
   "metadata": {
    "execution": {
     "iopub.execute_input": "2024-11-10T05:24:39.935945Z",
     "iopub.status.busy": "2024-11-10T05:24:39.934956Z",
     "iopub.status.idle": "2024-11-10T05:24:41.245789Z",
     "shell.execute_reply": "2024-11-10T05:24:41.244479Z",
     "shell.execute_reply.started": "2024-11-10T05:24:39.935886Z"
    }
   },
   "outputs": [],
   "source": [
    "%pip install --no-deps trl peft accelerate bitsandbytes"
   ]
  },
  {
   "cell_type": "code",
   "execution_count": null,
   "id": "14178479-8c3b-4f3b-926b-c854acef432f",
   "metadata": {
    "execution": {
     "iopub.execute_input": "2024-11-10T05:24:41.247836Z",
     "iopub.status.busy": "2024-11-10T05:24:41.247168Z",
     "iopub.status.idle": "2024-11-10T05:26:51.594825Z",
     "shell.execute_reply": "2024-11-10T05:26:51.593589Z",
     "shell.execute_reply.started": "2024-11-10T05:24:41.247778Z"
    },
    "tags": []
   },
   "outputs": [],
   "source": [
    "%pip install xformers==0.0.25"
   ]
  },
  {
   "cell_type": "code",
   "execution_count": null,
   "id": "7a52a349-ca37-4fda-acc4-3c5ef01255e2",
   "metadata": {
    "execution": {
     "iopub.execute_input": "2024-11-10T05:26:51.598614Z",
     "iopub.status.busy": "2024-11-10T05:26:51.597605Z",
     "iopub.status.idle": "2024-11-10T05:27:26.213472Z",
     "shell.execute_reply": "2024-11-10T05:27:26.212164Z",
     "shell.execute_reply.started": "2024-11-10T05:26:51.598568Z"
    }
   },
   "outputs": [],
   "source": [
    "%pip install flash-attn==2.5.8"
   ]
  },
  {
   "cell_type": "code",
   "execution_count": null,
   "id": "600d7fb7-7711-46e8-850b-5345f36f24de",
   "metadata": {
    "execution": {
     "iopub.execute_input": "2024-11-10T05:27:26.216085Z",
     "iopub.status.busy": "2024-11-10T05:27:26.214839Z",
     "iopub.status.idle": "2024-11-10T05:27:30.646742Z",
     "shell.execute_reply": "2024-11-10T05:27:30.645444Z",
     "shell.execute_reply.started": "2024-11-10T05:27:26.216022Z"
    }
   },
   "outputs": [],
   "source": [
    "%pip install urllib3==1.26.20"
   ]
  },
  {
   "cell_type": "code",
   "execution_count": null,
   "id": "e672e2b0",
   "metadata": {},
   "outputs": [],
   "source": [
    "%pip install python-docx"
   ]
  },
  {
   "cell_type": "code",
   "execution_count": null,
   "id": "c447049f-75bb-4e1e-a403-4f88c2c757f6",
   "metadata": {
    "execution": {
     "iopub.execute_input": "2024-11-10T05:27:30.649417Z",
     "iopub.status.busy": "2024-11-10T05:27:30.648412Z",
     "iopub.status.idle": "2024-11-10T05:27:30.666223Z",
     "shell.execute_reply": "2024-11-10T05:27:30.665033Z",
     "shell.execute_reply.started": "2024-11-10T05:27:30.649376Z"
    }
   },
   "outputs": [],
   "source": [
    "with open(\"../../.local/lib/python3.10/site-packages/huggingface_hub/utils/_hf_folder.py\", \"r\") as f:\n",
    "    file = f.read()\n",
    "    \n",
    "with open(\"../../.local/lib/python3.10/site-packages/huggingface_hub/utils/_token.py\", \"w\") as f:\n",
    "    f.write(file)"
   ]
  },
  {
   "cell_type": "code",
   "execution_count": null,
   "id": "6891ace0-0e50-4b84-932e-ab4f4b6934c4",
   "metadata": {},
   "outputs": [],
   "source": []
  },
  {
   "cell_type": "code",
   "execution_count": 1,
   "id": "df32a04b-775b-4e9e-a95e-604cfe0315b1",
   "metadata": {
    "execution": {
     "iopub.execute_input": "2024-11-10T05:28:05.171856Z",
     "iopub.status.busy": "2024-11-10T05:28:05.170762Z",
     "iopub.status.idle": "2024-11-10T05:28:31.960887Z",
     "shell.execute_reply": "2024-11-10T05:28:31.959580Z",
     "shell.execute_reply.started": "2024-11-10T05:28:05.171819Z"
    }
   },
   "outputs": [
    {
     "name": "stdout",
     "output_type": "stream",
     "text": [
      "🦥 Unsloth: Will patch your computer to enable 2x faster free finetuning.\n"
     ]
    }
   ],
   "source": [
    "from unsloth import FastLanguageModel"
   ]
  },
  {
   "cell_type": "code",
   "execution_count": 2,
   "id": "0d458f8d-2a68-45f0-956a-53044992044c",
   "metadata": {
    "execution": {
     "iopub.execute_input": "2024-11-10T05:28:34.645210Z",
     "iopub.status.busy": "2024-11-10T05:28:34.644143Z",
     "iopub.status.idle": "2024-11-10T05:37:29.762125Z",
     "shell.execute_reply": "2024-11-10T05:37:29.760910Z",
     "shell.execute_reply.started": "2024-11-10T05:28:34.645173Z"
    }
   },
   "outputs": [
    {
     "name": "stdout",
     "output_type": "stream",
     "text": [
      "==((====))==  Unsloth 2024.8: Fast Mistral patching. Transformers = 4.46.2.\n",
      "   \\\\   /|    GPU: Tesla V100-PCIE-32GB. Max memory: 31.739 GB. Platform = Linux.\n",
      "O^O/ \\_/ \\    Pytorch: 2.2.1+cu121. CUDA = 7.0. CUDA Toolkit = 12.1.\n",
      "\\        /    Bfloat16 = FALSE. FA [Xformers = 0.0.25. FA2 = False]\n",
      " \"-____-\"     Free Apache license: http://github.com/unslothai/unsloth\n",
      "Unsloth: Fast downloading is enabled - ignore downloading bars which are red colored!\n"
     ]
    },
    {
     "name": "stderr",
     "output_type": "stream",
     "text": [
      "Downloading shards:   0%|          | 0/2 [00:00<?, ?it/s]IOStream.flush timed out\n",
      "Downloading shards: 100%|██████████| 2/2 [03:59<00:00, 119.56s/it]\n",
      "Loading checkpoint shards: 100%|██████████| 2/2 [04:24<00:00, 132.12s/it]\n"
     ]
    }
   ],
   "source": [
    "model, tokenizer = FastLanguageModel.from_pretrained(\n",
    "    model_name=\"mistralai/Mistral-Nemo-Instruct-2407\",\n",
    "    max_seq_length=2048,\n",
    "    dtype=None,\n",
    "    load_in_4bit=True,\n",
    "    token=\"hf_...\"\n",
    ")"
   ]
  }
 ],
 "metadata": {
  "kernelspec": {
   "display_name": "Python 3 (ipykernel)",
   "language": "python",
   "name": "python3"
  },
  "language_info": {
   "codemirror_mode": {
    "name": "ipython",
    "version": 3
   },
   "file_extension": ".py",
   "mimetype": "text/x-python",
   "name": "python",
   "nbconvert_exporter": "python",
   "pygments_lexer": "ipython3",
   "version": "3.8.13"
  }
 },
 "nbformat": 4,
 "nbformat_minor": 5
}
